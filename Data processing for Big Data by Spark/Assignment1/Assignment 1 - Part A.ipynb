{
 "cells": [
  {
   "cell_type": "markdown",
   "metadata": {},
   "source": [
    "# FIT5202 Data processing for big data Assignment 1\n",
    "\n",
    "##  Part A: Analysing Text Data\n",
    "\n",
    "In this part, we will look into modern software development methodologies. The                         everyday job of a data scientist / data engineer / software engineer involves working in a                                 project team and following software development methodologies to develop software                     products or do data analysis. To prepare for such a career, it would be useful to have                                   knowledge on the common software development methodologies. In this assignment,                     we will analyse two books on software development methodologies. We will see the                           distribution of words, the most common words in both books and the average frequency..                             This approach can also be scaled to find the most common words and distribution of all                                 words in the Internet.    \n",
    "\n",
    "Required Dataset (available in Moodle):  \n",
    "- Book1:​ \"Agile Processes in Software Engineering and Extreme Programming.txt\"  \n",
    "- Book2:​ \"Scrum Handbook.txt\" "
   ]
  },
  {
   "cell_type": "markdown",
   "metadata": {},
   "source": [
    "##  Step 01: Import ​pyspark ​and initialize Spark  \n",
    "\n",
    "pyspark ​is the Spark Python API that exposes the Spark programming model to                           Python. ​SparkContext ​is the main entry point for Spark functionality. In Spark,                         communication occurs between a driver and executors. The driver has Spark jobs that it                             needs to run and these jobs are split into tasks that are submitted to the executors for                                   completion. The results from these tasks are delivered back to the driver. In order to use                                 Spark and its API, we will need to use a ​SparkContext​. When running Spark, you start a                                   new Spark application by creating a SparkContext. When the SparkContext is created, it                           asks the master for some cores to use to do the processing. The master sets these cores                                   aside; they won’t be used for other applications.    \n",
    "\n",
    "Write the code to create a ​ S p a r k C o n t e x t ​ object, which tells Spark how to access a                              cluster. To create a SparkContext you first need to build a​SparkConf​object that contains                               information about your application. Give an appropriate name for your application and                         run Spark locally with as many working processors as logical cores on your machine.  "
   ]
  },
  {
   "cell_type": "code",
   "execution_count": 1,
   "metadata": {},
   "outputs": [],
   "source": [
    "# Create a spark context.\n",
    "from pyspark import SparkContext, SparkConf \n",
    "from pyspark.sql import SparkSession \n",
    "sc = SparkContext.getOrCreate()\n",
    "if (sc is None):\n",
    "    sc = SparkContext(master=\"local[*]\", appName=\"Assignment1 Part A\")\n",
    "spark = SparkSession(sparkContext=sc)"
   ]
  },
  {
   "cell_type": "markdown",
   "metadata": {},
   "source": [
    "##  Step 02: Create Resilient Distributed Datasets (RDDs)  \n",
    "\n",
    "A ​SparkContext​ can be used to create Resilient Distributed Datasets (RDDs) on a cluster.  Write the code ​ in pyspark to read the required dataset and display the total number of lines  in each dataset.  "
   ]
  },
  {
   "cell_type": "code",
   "execution_count": 2,
   "metadata": {},
   "outputs": [
    {
     "name": "stdout",
     "output_type": "stream",
     "text": [
      "Agile contains 21569 lines, and Scrum contains 4617 lines\n"
     ]
    }
   ],
   "source": [
    "# Read the txt file into rdd.\n",
    "rdd1 = sc.textFile('Agile Processes  in Software Engineering  and Extreme Programming.txt')\n",
    "rdd2 = sc.textFile('Scrum Handbook.txt')\n",
    "print('Agile contains %d lines, and Scrum contains %d lines'%(rdd1.count(),rdd2.count()))"
   ]
  },
  {
   "cell_type": "markdown",
   "metadata": {},
   "source": [
    "### Answer\n",
    "Agile contains 21569 lines, and Scrum contains 4617 lines"
   ]
  },
  {
   "cell_type": "markdown",
   "metadata": {},
   "source": [
    "##  Step 03: ​Cleaning/Manipulating text. \n",
    "\n",
    " Words should be counted independent of their case. So, you will have to change                             all words to lowercase. Further, if there are any leading or trailing spaces on a line, it                                   should be removed.  \n",
    " Write a function that performs the following tasks on the RDDs:  \n",
    " 1. Removes all characters which are not alphabets except space(s).   \n",
    " 2. Changes all upper case letters to lowercase..  \n",
    " 3. Removes all leading or trailing spaces.  \n",
    "\n",
    "You can use the python module ​re ​for matching patterns. Finally, display the contents of  the RDDs after applying the function. \n"
   ]
  },
  {
   "cell_type": "code",
   "execution_count": 3,
   "metadata": {},
   "outputs": [],
   "source": [
    "# Use re to delete all characters which are not alphabets except space(s).\n",
    "import re\n",
    "rule = re.compile(r'[^a-zA-Z ]')\n",
    "\n",
    "rdd1 = rdd1.map(lambda x : rule.sub('', x))\n",
    "rdd2 = rdd2.map(lambda x : rule.sub('', x))\n",
    "\n",
    "rdd1 = rdd1.map(lambda x : x.lower())\n",
    "rdd2 = rdd2.map(lambda x : x.lower())\n",
    "\n",
    "rdd1 = rdd1.map(lambda x : x.strip()).filter(lambda x : len(x) > 0)\n",
    "rdd2 = rdd2.map(lambda x : x.strip()).filter(lambda x : len(x) > 0)"
   ]
  },
  {
   "cell_type": "code",
   "execution_count": 4,
   "metadata": {},
   "outputs": [
    {
     "data": {
      "text/plain": [
       "['lnbip',\n",
       " 'i helen sharp',\n",
       " 'tracy hall eds',\n",
       " 'agile processes',\n",
       " 'in software engineering',\n",
       " 'and extreme programming',\n",
       " 'th international conference xp',\n",
       " 'edinburgh uk may',\n",
       " 'proceedings',\n",
       " 'springer open']"
      ]
     },
     "execution_count": 4,
     "metadata": {},
     "output_type": "execute_result"
    }
   ],
   "source": [
    "# Show top 10\n",
    "rdd1.take(10)"
   ]
  },
  {
   "cell_type": "code",
   "execution_count": 5,
   "metadata": {},
   "outputs": [
    {
     "data": {
      "text/plain": [
       "['jeff sutherlands',\n",
       " 'scrum handbook',\n",
       " 'everything',\n",
       " 'you need',\n",
       " 'to know',\n",
       " 'to start',\n",
       " 'a scrum project',\n",
       " 'in your',\n",
       " 'organization',\n",
       " 'scrum']"
      ]
     },
     "execution_count": 5,
     "metadata": {},
     "output_type": "execute_result"
    }
   ],
   "source": [
    "# Show top 10\n",
    "rdd2.take(10)"
   ]
  },
  {
   "cell_type": "markdown",
   "metadata": {},
   "source": [
    "##  Step 04: Transforming the Data/Counting the words  \n",
    "\n",
    "Apply a transformation that will split each element of the RDD by its spaces and                               then create a word pairs for e.g. ('agile', 1), ('handbook', 1). Then, count the frequency of                                 each word and ​display the top 20 most frequent words "
   ]
  },
  {
   "cell_type": "code",
   "execution_count": 6,
   "metadata": {},
   "outputs": [],
   "source": [
    "# Split lines into single word.\n",
    "rdd1 = rdd1.flatMap(lambda x : x.split(' ')).filter(lambda x : len(x) > 0)\n",
    "rdd2 = rdd2.flatMap(lambda x : x.split(' ')).filter(lambda x : len(x) > 0)\n",
    "\n",
    "# Group by word\n",
    "rdd1 = rdd1.map(lambda x : (x, 1)).reduceByKey(lambda x, y : x + y)\n",
    "rdd2 = rdd2.map(lambda x : (x, 1)).reduceByKey(lambda x, y : x + y)\n",
    "\n",
    "# Swop the location so it can be sort by key\n",
    "rdd1 = rdd1.map(lambda x : (x[1], x[0])).sortByKey(ascending = False)\n",
    "rdd2 = rdd2.map(lambda x : (x[1], x[0])).sortByKey(ascending = False)\n",
    "\n",
    "# Swop the location back\n",
    "rdd1 = rdd1.map(lambda x : (x[1], x[0]))\n",
    "rdd2 = rdd2.map(lambda x : (x[1], x[0]))"
   ]
  },
  {
   "cell_type": "code",
   "execution_count": 7,
   "metadata": {},
   "outputs": [
    {
     "data": {
      "text/plain": [
       "[('the', 8145),\n",
       " ('and', 3965),\n",
       " ('of', 3944),\n",
       " ('to', 3714),\n",
       " ('in', 3076),\n",
       " ('a', 2701),\n",
       " ('is', 1539),\n",
       " ('that', 1355),\n",
       " ('for', 1194),\n",
       " ('as', 1028),\n",
       " ('on', 1015),\n",
       " ('we', 975),\n",
       " ('with', 969),\n",
       " ('software', 922),\n",
       " ('this', 915),\n",
       " ('are', 784),\n",
       " ('agile', 748),\n",
       " ('it', 741),\n",
       " ('development', 737),\n",
       " ('was', 711)]"
      ]
     },
     "execution_count": 7,
     "metadata": {},
     "output_type": "execute_result"
    }
   ],
   "source": [
    "# Show top 20 most frequent words\n",
    "rdd1.take(20)"
   ]
  },
  {
   "cell_type": "code",
   "execution_count": 8,
   "metadata": {},
   "outputs": [
    {
     "data": {
      "text/plain": [
       "[('the', 1238),\n",
       " ('of', 537),\n",
       " ('and', 534),\n",
       " ('to', 477),\n",
       " ('a', 451),\n",
       " ('scrum', 395),\n",
       " ('in', 360),\n",
       " ('is', 348),\n",
       " ('team', 260),\n",
       " ('product', 232),\n",
       " ('for', 195),\n",
       " ('that', 181),\n",
       " ('it', 165),\n",
       " ('on', 149),\n",
       " ('sprint', 146),\n",
       " ('this', 142),\n",
       " ('with', 132),\n",
       " ('as', 124),\n",
       " ('are', 119),\n",
       " ('by', 118)]"
      ]
     },
     "execution_count": 8,
     "metadata": {},
     "output_type": "execute_result"
    }
   ],
   "source": [
    "# Show top 20 most frequent words\n",
    "rdd2.take(20)"
   ]
  },
  {
   "cell_type": "markdown",
   "metadata": {},
   "source": [
    "##  Step 05: Removing Stop Words\n",
    "\n",
    "In computing, stop words are words which are filtered out before or after                           processing of natural language data. ​In natural language processing, useless words                     (data), are referred to as stop words. We would not want these words taking up space in                                   our database, or taking up valuable processing time. For this, we can remove them easily,                               by storing a list of words that you consider to be stop words. ​NLTK(Natural Language                               Toolkit)​ in python has a list of stopwords stored in 16 different languages.   \n",
    "\n",
    "Write the code to remove stop words from the RDDs. You should use ​nltk​ package                               to remove the stop words. ​Also find how many unique words do we now have in each RDD? \n"
   ]
  },
  {
   "cell_type": "code",
   "execution_count": 9,
   "metadata": {},
   "outputs": [
    {
     "name": "stdout",
     "output_type": "stream",
     "text": [
      "There are 9611 unique words in RDD1 and 2936 unique words in RDD2\n"
     ]
    }
   ],
   "source": [
    "# Get the stop words from nltk\n",
    "from nltk.corpus import stopwords\n",
    "words = stopwords.words('english')\n",
    "\n",
    "# Filter the stop words\n",
    "rdd1 = rdd1.filter(lambda x : x[0] not in words)\n",
    "rdd2 = rdd2.filter(lambda x : x[0] not in words)\n",
    "\n",
    "print('There are %d unique words in RDD1 and %d unique words in RDD2'%(rdd1.count(),rdd2.count()))"
   ]
  },
  {
   "cell_type": "markdown",
   "metadata": {},
   "source": [
    "### Answer\n",
    "There are 9611 unique words in RDD1 and 2936 unique words in RDD2."
   ]
  },
  {
   "cell_type": "markdown",
   "metadata": {},
   "source": [
    "##  Step 06: Find the average occurrence of a word \n",
    "\n",
    "To find the average occurrence of a word, you will have to find the total number                                 of words and divide that by the number of unique words.  \n",
    "\n",
    "Write the code to find the average occurrences of the words. \n"
   ]
  },
  {
   "cell_type": "code",
   "execution_count": 10,
   "metadata": {},
   "outputs": [
    {
     "name": "stdout",
     "output_type": "stream",
     "text": [
      "The average occurrences of the words in RDD1 is 8.23\n",
      "The average occurrences of the words in RDD2 is 3.68\n"
     ]
    }
   ],
   "source": [
    "# Count the total number of words in books.\n",
    "total1 = rdd1.map(lambda x : x[1]).reduce(lambda x, y : x + y)\n",
    "total2 = rdd2.map(lambda x : x[1]).reduce(lambda x, y : x + y)\n",
    "\n",
    "print('The average occurrences of the words in RDD1 is %.2f'% (total1 / rdd1.count()))\n",
    "print('The average occurrences of the words in RDD2 is %.2f'% (total2 / rdd2.count()))"
   ]
  },
  {
   "cell_type": "markdown",
   "metadata": {},
   "source": [
    "### Answer\n",
    "The average occurrences of the words in RDD1 is 8.23, and the average occurrences of the words in RDD2 is 3.68."
   ]
  },
  {
   "cell_type": "markdown",
   "metadata": {},
   "source": [
    "##  Step 07: Exploratory data analysis \n",
    "\n",
    "Analyze the distribution of the words using the standard python library                         matplotlib. ​Please make sure you are aware of the different factors such as​visual effects ​ ,                              coordinate system, labels ​ , ​data type and scale and informative interpretation before data                        visualisation . Also consider other aspects of visualization like ​clarity ​ , ​accuracy ​ and                        efficiency ​ as well. \n",
    "- Compare the distribution of words in Book1 and Book2 The data spans many orders                             of magnitude and the features of the distribution not quite evident in the linear space.                               Therefore, use log scale (base 10) to plot the graph. Explain your understanding                           based on the graphs.  \n",
    "- Compare the top 15 most common words in Book1 and Book2. Plot the graphs and  explain your understanding of the graph. "
   ]
  },
  {
   "cell_type": "markdown",
   "metadata": {},
   "source": [
    "### Question 1\n",
    "Compare the distribution of words in Book1 and Book2 The data spans many orders of magnitude and the features of the distribution not quite evident in the linear space. Therefore, use log scale (base 10) to plot the graph. Explain your understanding based on the graphs."
   ]
  },
  {
   "cell_type": "code",
   "execution_count": 11,
   "metadata": {},
   "outputs": [],
   "source": [
    "import matplotlib.pyplot as mp\n",
    "\n",
    "# Transform the rdd to list\n",
    "list1 = rdd1.map(lambda x : x[1]).collect()\n",
    "list2 = rdd2.map(lambda x : x[1]).collect()"
   ]
  },
  {
   "cell_type": "code",
   "execution_count": 12,
   "metadata": {},
   "outputs": [
    {
     "data": {
      "image/png": "[encoded data removed]",
      "text/plain": [
       "<Figure size 576x576 with 1 Axes>"
      ]
     },
     "metadata": {
      "needs_background": "light"
     },
     "output_type": "display_data"
    }
   ],
   "source": [
    "# Create a histogram plot and set the color, title, label and size.\n",
    "mp.hist(list1, color = 'blue', rwidth = 100, log = True)\n",
    "mp.title('Histogram: Distribution of words in Book1')\n",
    "mp.xlabel('Word frequency')\n",
    "mp.ylabel('Number of distinct words')\n",
    "mp.gcf().set_size_inches(8,8)"
   ]
  },
  {
   "cell_type": "code",
   "execution_count": 13,
   "metadata": {
    "scrolled": false
   },
   "outputs": [
    {
     "data": {
      "image/png": "[encoded data removed]",
      "text/plain": [
       "<Figure size 576x576 with 1 Axes>"
      ]
     },
     "metadata": {
      "needs_background": "light"
     },
     "output_type": "display_data"
    }
   ],
   "source": [
    "# Create a histogram plot and set the color, title, label and size.\n",
    "mp.hist(list2, color = 'red', rwidth = 100, log = True)\n",
    "mp.title('Histogram: Distribution of words in Book2')\n",
    "mp.xlabel('Word frequency')\n",
    "mp.ylabel('Number of distinct words')\n",
    "mp.gcf().set_size_inches(8,8)"
   ]
  },
  {
   "cell_type": "markdown",
   "metadata": {},
   "source": [
    "### Answer 1\n",
    "Most of words in these books has low frequency. The words in Book1 has high frequency compared with words in Book2."
   ]
  },
  {
   "cell_type": "markdown",
   "metadata": {},
   "source": [
    "### Question 2\n",
    "Compare the top 15 most common words in Book1 and Book2. Plot the graphs and  explain your understanding of the graph. "
   ]
  },
  {
   "cell_type": "code",
   "execution_count": 14,
   "metadata": {},
   "outputs": [],
   "source": [
    "# Save the top 15 in list\n",
    "top1 = rdd1.take(15).copy()\n",
    "top2 = rdd2.take(15).copy()"
   ]
  },
  {
   "cell_type": "code",
   "execution_count": 15,
   "metadata": {},
   "outputs": [
    {
     "data": {
      "image/png": "[encoded data removed]",
      "text/plain": [
       "<Figure size 720x576 with 1 Axes>"
      ]
     },
     "metadata": {
      "needs_background": "light"
     },
     "output_type": "display_data"
    }
   ],
   "source": [
    "# Create the list for x-axis and y-axis\n",
    "words1 = list()\n",
    "count1 = list()\n",
    "for i in top1:\n",
    "    words1.append(i[0])\n",
    "    count1.append(i[1])\n",
    "\n",
    "# Creat the bar plot and set the title, labels and size.\n",
    "fig, ax = mp.subplots()\n",
    "ax.bar(words1, count1)\n",
    "ax.set_title('Top 15 most common words in Book1')\n",
    "ax.set_xticklabels(words1, rotation = 'vertical')\n",
    "ax.set_xlabel('Top 15 Words')\n",
    "ax.set_ylabel('Number of Occurrences')\n",
    "fig.set_size_inches(10,8)"
   ]
  },
  {
   "cell_type": "code",
   "execution_count": 16,
   "metadata": {},
   "outputs": [
    {
     "data": {
      "image/png": "[encoded data removed]",
      "text/plain": [
       "<Figure size 720x576 with 1 Axes>"
      ]
     },
     "metadata": {
      "needs_background": "light"
     },
     "output_type": "display_data"
    }
   ],
   "source": [
    "# Create the list for x-axis and y-axis\n",
    "words2 = list()\n",
    "count2 = list()\n",
    "for i in top2:\n",
    "    words2.append(i[0])\n",
    "    count2.append(i[1])\n",
    "\n",
    "# Creat the bar plot and set the color, title, labels and size.\n",
    "fig, ax = mp.subplots()\n",
    "ax.bar(words2, count2, color = 'red')\n",
    "ax.set_title('Top 15 most common words in Book2')\n",
    "ax.set_xticklabels(words2, rotation = 'vertical')\n",
    "ax.set_xlabel('Top 15 Words')\n",
    "ax.set_ylabel('Number of Occurrences')\n",
    "fig.set_size_inches(10, 8)"
   ]
  },
  {
   "cell_type": "markdown",
   "metadata": {},
   "source": [
    "### Answer 2\n",
    "In Book1, the most common word is \"software\". In Book2, the most common word is \"scrum\". The Book1 talks about Agile, but the word \"agile\" is not the most common word in Book1. "
   ]
  }
 ],
 "metadata": {
  "kernelspec": {
   "display_name": "Python 3",
   "language": "python",
   "name": "python3"
  },
  "language_info": {
   "codemirror_mode": {
    "name": "ipython",
    "version": 3
   },
   "file_extension": ".py",
   "mimetype": "text/x-python",
   "name": "python",
   "nbconvert_exporter": "python",
   "pygments_lexer": "ipython3",
   "version": "3.7.3"
  }
 },
 "nbformat": 4,
 "nbformat_minor": 2
}
