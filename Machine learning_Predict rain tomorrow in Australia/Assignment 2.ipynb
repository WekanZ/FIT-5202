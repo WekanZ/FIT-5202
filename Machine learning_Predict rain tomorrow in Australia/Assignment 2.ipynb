{
 "cells": [
  {
   "cell_type": "markdown",
   "metadata": {},
   "source": [
    "# FIT5202 Data processing for big data Assignment 2\n",
    "\n",
    "##  Rain in Australia: Predict rain tomorrow in Australia \n",
    "\n",
    "Predicting rain or weather is a common problem in machine learning. Different machine                           learning algorithms can be used to model and predict rainfall. In this assignment, we ask                               you to complete the analysis to predict whether there will be rain tomorrow or not. In                                 particular, you are required to apply the tools of machine learning to visualize and                             predict the possibility of rainfall in Australia.   \n",
    "\n",
    "Required Datasets (available in Moodle):   \n",
    "- Rain in Australia (​weatherAUS.csv​)     \n",
    "\n",
    "The dataset is originally from Kaggle Dataset and can be found at ​this link​. It has been  modified to serve our purpose i.e. (to do the binary classification). \n"
   ]
  },
  {
   "cell_type": "code",
   "execution_count": 1,
   "metadata": {},
   "outputs": [],
   "source": [
    "# Import all the packages\n",
    "from pyspark import SparkContext, SparkConf \n",
    "from pyspark.sql import SparkSession\n",
    "from pyspark.sql.functions import udf\n",
    "from pyspark.sql.types import BooleanType\n",
    "from pyspark.ml.feature import StringIndexer\n",
    "from pyspark.ml.linalg import Vectors\n",
    "from pyspark.ml.feature import VectorAssembler\n",
    "from pyspark.ml.classification import DecisionTreeClassifier\n",
    "from pyspark.ml.classification import RandomForestClassifier\n",
    "from pyspark.ml.classification import LogisticRegression\n",
    "from pyspark.ml.classification import GBTClassifier\n",
    "from pyspark.ml.evaluation import MulticlassClassificationEvaluator\n",
    "from pyspark.mllib.evaluation import MulticlassMetrics\n",
    "from matplotlib import pyplot"
   ]
  },
  {
   "cell_type": "markdown",
   "metadata": {},
   "source": [
    "##  A.Creating Spark Session and Loading the Data \n",
    "\n",
    "### Step 01: Import Spark Session and initialize Spark  \n",
    "pyspark is the Spark Python API that exposes the Spark programming model to                           Python. You are already familiar with ​sparkContext from Assignment 1. ​sparkContext                       was used as a channel to access all spark functionality. In order to use APIs of SQL, HIVE,                                     and Streaming, separate contexts need to be created. From SPARK 2.0.0 onwards                         sparkSession provides a single point of entry to interact with underlying Spark                         functionality and allows programming Spark with Dataframe and Dataset APIs. All the                         functionality available with ​sparkContext​ are also available in ​sparkSession​.   \n",
    "\n",
    "Write the code to create a sparkSession object, with 4 local cores. To create a                               sparkSession with 4 core you have to use configure it as ​local[4]. Give a name to your                                   program using ​appName()."
   ]
  },
  {
   "cell_type": "code",
   "execution_count": 2,
   "metadata": {},
   "outputs": [],
   "source": [
    "# Create a spark context with 4 local cores.\n",
    "sc = SparkContext.getOrCreate()\n",
    "if (sc is None):\n",
    "    sc = SparkContext(master=\"local[4]\")\n",
    "\n",
    "# Name the program with appName()\n",
    "spark = SparkSession(sparkContext=sc)\\\n",
    "    .builder\\\n",
    "    .appName(\"Assignment 2\")\\\n",
    "    .getOrCreate()"
   ]
  },
  {
   "cell_type": "markdown",
   "metadata": {},
   "source": [
    "### Step 02: Load the dataset and print the schema and total number of entries\n",
    "In ​sparkSession you can use ​spark_session.read.csv() method to load data as CSV                         format. You can download the dataset from Moodle. After you load the csv file into a                                 dataframe using spark session, write the code to print the total number of entries in the                                 dataset.  "
   ]
  },
  {
   "cell_type": "code",
   "execution_count": 3,
   "metadata": {},
   "outputs": [
    {
     "name": "stdout",
     "output_type": "stream",
     "text": [
      "There are 142193 entries in the dataset.\n"
     ]
    }
   ],
   "source": [
    "# Read the data and save in a dataframe.\n",
    "df = spark.read.csv(\"weatherAUS.csv\", header = True, inferSchema = True)\n",
    "total_lines = df.count()\n",
    "print((\"There are %d entries in the dataset.\"%total_lines))"
   ]
  },
  {
   "cell_type": "markdown",
   "metadata": {},
   "source": [
    "#### Answer\n",
    "The total number of entries in the dataset is 142193."
   ]
  },
  {
   "cell_type": "markdown",
   "metadata": {},
   "source": [
    "##  B. Data Cleaning and Processing  \n",
    "Data cleaning and processing is an important aspect for any machine learning task. We                             have to carefully look into the data and based on the types, quality of the data, we have                                     to plan our cleaning procedures.  \n",
    "\n",
    "\n",
    "### Step 03: Delete columns from the dataset   \n",
    "During the data cleaning and processing phase, we delete unnecessary data from                         the dataset to improve the efficiency and accuracy of our model. You have to think                               which columns are not contributing to the rain prediction. To keep things simple, you are                               required to delete the following columns due to data quality and accuracy. \n",
    "- Date  \n",
    "- Location  \n",
    "- Evaporation  \n",
    "- Sunshine  \n",
    "- Cloud9am  \n",
    "- Cloud3pm  \n",
    "- Temp9am  \n",
    "- Temp3pm    \n",
    "\n",
    "However, if you want to keep any of these columns, you can keep them if you process                                   them in an intelligent way that improve the accuracy, that is fine, ​however not                             mandatory​. "
   ]
  },
  {
   "cell_type": "code",
   "execution_count": 4,
   "metadata": {},
   "outputs": [],
   "source": [
    "# Delete irrelevant columns.\n",
    "df = df.drop(\"Date\",\"Location\",\"Evaporation\",\"Sunshine\",\"Cloud9am\",\"Cloud3pm\",\"Temp9am\",\"Temp3pm\")"
   ]
  },
  {
   "cell_type": "markdown",
   "metadata": {},
   "source": [
    "### Step 04: Print the number of missing data in each column\n",
    "We already have an initial idea about the data structure from the schema. Even in                               plain eyes, we can observe that there are lots of NA (null) values in the given dataset.                                   Your job in this step is to print the number of NA(null) values in each column. "
   ]
  },
  {
   "cell_type": "code",
   "execution_count": 5,
   "metadata": {},
   "outputs": [
    {
     "name": "stdout",
     "output_type": "stream",
     "text": [
      "Number of null values for each column:\n",
      "('MinTemp', 637)\n",
      "('MaxTemp', 322)\n",
      "('Rainfall', 1406)\n",
      "('WindGustDir', 9330)\n",
      "('WindGustSpeed', 9270)\n",
      "('WindDir9am', 10013)\n",
      "('WindDir3pm', 3778)\n",
      "('WindSpeed9am', 1348)\n",
      "('WindSpeed3pm', 2630)\n",
      "('Humidity9am', 1774)\n",
      "('Humidity3pm', 3610)\n",
      "('Pressure9am', 14014)\n",
      "('Pressure3pm', 13981)\n",
      "('RainToday', 1406)\n",
      "('RainTomorrow', 0)\n"
     ]
    }
   ],
   "source": [
    "# Create a udf to filter the NA values.\n",
    "dropNa = udf(lambda x : not (x == \"NA\"), BooleanType())\n",
    "\n",
    "# An empty list to save results.\n",
    "null_count = []\n",
    "null_count.append(\"Number of null values for each column:\")\n",
    "\n",
    "# Calculate number of NA values for each column.\n",
    "for i in df.columns:\n",
    "    null_count.append((i, total_lines - df.filter(dropNa(i)).count()))\n",
    "    \n",
    "# Print the result.\n",
    "for i in null_count:\n",
    "    print(i)"
   ]
  },
  {
   "cell_type": "markdown",
   "metadata": {},
   "source": [
    "### Step 05: Fill the missing data with average value and maximum occurrence value\n",
    "In this step you have to fill in all the missing data with average value (for numeric                                   column) or maximum frequency value (for non-numeric column).  \n",
    "\n",
    "Firstly, identify the columns which have numeric values (e.g., MinTemp, MaxTemp),                       calculate the average and fill the null value with the average.                              \n",
    "\n",
    "Secondly, identify the columns with non-numeric values (e.g., WindGustDir, WindDir9am)                     and find the for frequent item (e.g., wind direction). Now fill the null values with that item                                   for that particular column.  "
   ]
  },
  {
   "cell_type": "code",
   "execution_count": 6,
   "metadata": {},
   "outputs": [],
   "source": [
    "def calculateAvg(column):\n",
    "    \"\"\"Calculate the average value for a numeric column.\n",
    "    \n",
    "    :param column: the name of the given column\n",
    "    :return: the average value\n",
    "    :rtype: float\n",
    "    \"\"\"\n",
    "    rdd = df.select(column).filter(dropNa(column)).rdd\n",
    "    return round(rdd.map(lambda x : float(x[0]))\\\n",
    "                 .reduce(lambda x, y : x+ y)/rdd.count(),2)\n",
    "\n",
    "def maxFrequency(column):\n",
    "    \"\"\"Find the max frquency item for a non-numeric column.\n",
    "    \n",
    "    :param column: the name of the given column\n",
    "    :return: the max frquency item\n",
    "    :rtype: String\n",
    "    \"\"\"\n",
    "    rdd = df.select(column).filter(dropNa(column)).rdd\n",
    "    text = rdd.map(lambda x : (x[0], 1))\\\n",
    "        .reduceByKey(lambda x,y : x + y)\\\n",
    "        .map(lambda x : (x[1], x[0]))\\\n",
    "        .sortByKey(ascending = False)\\\n",
    "        .collect()[0][1]\n",
    "    return text\n",
    "\n",
    "# Fill the NA values in each column\n",
    "df = df.replace(\"NA\",None)\\\n",
    "    .na.fill({\"MinTemp\": calculateAvg(\"MinTemp\")})\\\n",
    "    .na.fill({\"MaxTemp\": calculateAvg(\"MaxTemp\")})\\\n",
    "    .na.fill({\"Rainfall\": calculateAvg(\"Rainfall\")})\\\n",
    "    .na.fill({\"WindGustSpeed\": calculateAvg(\"WindGustSpeed\")})\\\n",
    "    .na.fill({\"WindSpeed9am\": calculateAvg(\"WindSpeed9am\")})\\\n",
    "    .na.fill({\"WindSpeed3pm\": calculateAvg(\"WindSpeed3pm\")})\\\n",
    "    .na.fill({\"Humidity9am\": calculateAvg(\"Humidity9am\")})\\\n",
    "    .na.fill({\"Humidity3pm\": calculateAvg(\"Humidity3pm\")})\\\n",
    "    .na.fill({\"Pressure9am\": calculateAvg(\"Pressure9am\")})\\\n",
    "    .na.fill({\"Pressure3pm\": calculateAvg(\"Pressure3pm\")})\\\n",
    "    .na.fill({\"WindGustDir\": maxFrequency(\"WindGustDir\")})\\\n",
    "    .na.fill({\"WindDir9am\": maxFrequency(\"WindDir9am\")})\\\n",
    "    .na.fill({\"WindDir3pm\": maxFrequency(\"WindDir3pm\")})\\\n",
    "    .na.fill({\"RainToday\": maxFrequency(\"RainToday\")})\\\n",
    "    .na.fill({\"RainTomorrow\": maxFrequency(\"RainTomorrow\")})"
   ]
  },
  {
   "cell_type": "markdown",
   "metadata": {},
   "source": [
    "### Step 06: Data transformation\n",
    "In this step, you have to transform the data so that it will be useful to process by                                     the machine learning algorithm. Before transforming your non-numerical data, do the                       type casting (to double) of the numerical value columns as they are defined as “String”                               (see, the schema of the dataset). For the non-numerical value column (i.e., WindGustDir,                           WindDir9am, WindDir3pm, RainTomorrow) use the StringIndexer method to convert                   them into numbers.  "
   ]
  },
  {
   "cell_type": "code",
   "execution_count": 7,
   "metadata": {},
   "outputs": [],
   "source": [
    "# Type casting to double\n",
    "df = df.withColumn(\"MinTemp\", df[\"MinTemp\"].cast(\"double\"))\\\n",
    "    .withColumn(\"MaxTemp\", df[\"MaxTemp\"].cast(\"double\"))\\\n",
    "    .withColumn(\"Rainfall\", df[\"Rainfall\"].cast(\"double\"))\\\n",
    "    .withColumn(\"WindGustSpeed\", df[\"WindGustSpeed\"].cast(\"double\"))\\\n",
    "    .withColumn(\"WindSpeed9am\", df[\"WindSpeed9am\"].cast(\"double\"))\\\n",
    "    .withColumn(\"WindSpeed3pm\", df[\"WindSpeed3pm\"].cast(\"double\"))\\\n",
    "    .withColumn(\"Humidity9am\", df[\"Humidity9am\"].cast(\"double\"))\\\n",
    "    .withColumn(\"Humidity3pm\", df[\"Humidity3pm\"].cast(\"double\"))\\\n",
    "    .withColumn(\"Pressure9am\", df[\"Pressure9am\"].cast(\"double\"))\\\n",
    "    .withColumn(\"Pressure3pm\", df[\"Pressure3pm\"].cast(\"double\"))\n",
    "\n",
    "# Convert Sting to numbers using StringIndexer\n",
    "strCols = [\"WindGustDir\", \"WindDir9am\", \"WindDir3pm\", \"RainToday\", \"RainTomorrow\"]\n",
    "df_index = df\n",
    "\n",
    "for i in strCols:\n",
    "    indexer = StringIndexer(inputCol = i, outputCol = i + \"Index\")\n",
    "    df_index = indexer.fit(df_index).transform(df_index)\n",
    "    \n",
    "df_index = df_index.drop(\"WindGustDir\", \"WindDir9am\", \"WindDir3pm\", \"RainToday\", \"RainTomorrow\")"
   ]
  },
  {
   "cell_type": "markdown",
   "metadata": {},
   "source": [
    "### Step 07: Create the feature vector and divide the dataset \n",
    "In this step, you have to create the feature vector from the given columns. When                               you create you feature vector, remember to exclude the column that you will be using                               for testing the accuracy of your model.     \n",
    "\n",
    "After creation of your feature vector, you have split your dataset into two (e.g., training                               and testing). In this assignment, you have to spit the dataset randomly and between 70                               percent and 30 percent.  "
   ]
  },
  {
   "cell_type": "code",
   "execution_count": 8,
   "metadata": {},
   "outputs": [],
   "source": [
    "# Transform all features into a vector\n",
    "assembler = VectorAssembler(\n",
    "    inputCols = df_index.columns[:14], \n",
    "    outputCol = \"Features\")\n",
    "df_vector = assembler.transform(df_index).select(\"RainTomorrowIndex\", \"Features\")\n",
    "\n",
    "# Split the dataset randomly\n",
    "(train, test) = df_vector.randomSplit([0.7, 0.3], 1)"
   ]
  },
  {
   "cell_type": "markdown",
   "metadata": {},
   "source": [
    "## C. Apply Machine Learning Algorithms \n",
    "### Step 08: Apply machine learning classification algorithms on the dataset and                       compare their accuracy. Plot the accuracy as bar graph.\n",
    "You have to use ​DecisionTreeClassifier(), RandomForestClassifier(), and               LogisticRegression(), GBTClassifier() methods in spark to calculate the probability of the                       rain fall tomorrow based on the other related data points (e.g., temperature, wind,                           humidity). Finally, you have to draw the graph (e.g. bar chart) to demonstrate the                             comparison of their accuracy.  "
   ]
  },
  {
   "cell_type": "markdown",
   "metadata": {},
   "source": [
    "### Decision Tree"
   ]
  },
  {
   "cell_type": "code",
   "execution_count": 9,
   "metadata": {},
   "outputs": [],
   "source": [
    "# Fit the model\n",
    "dt = DecisionTreeClassifier(\n",
    "    labelCol = \"RainTomorrowIndex\", \n",
    "    featuresCol = \"Features\")\n",
    "dt_model = dt.fit(train)\n",
    "\n",
    "# Predict\n",
    "dt_prediction = dt_model.transform(test)\n",
    "\n",
    "# Evaluate the accuracy\n",
    "dt_evaluator = MulticlassClassificationEvaluator(\n",
    "    labelCol=\"RainTomorrowIndex\", \n",
    "    predictionCol=\"prediction\", \n",
    "    metricName=\"accuracy\")\n",
    "dt_accuracy = dt_evaluator.evaluate(dt_prediction)"
   ]
  },
  {
   "cell_type": "markdown",
   "metadata": {},
   "source": [
    "### Random Forest"
   ]
  },
  {
   "cell_type": "code",
   "execution_count": 10,
   "metadata": {},
   "outputs": [],
   "source": [
    "# Fit the model\n",
    "rf = RandomForestClassifier(\n",
    "    labelCol = \"RainTomorrowIndex\", \n",
    "    featuresCol = \"Features\")\n",
    "rf_model = rf.fit(train)\n",
    "\n",
    "# Predict\n",
    "rf_prediction = rf_model.transform(test)\n",
    "\n",
    "# Evaluate the accuracy\n",
    "rf_evaluator = MulticlassClassificationEvaluator(\n",
    "    labelCol=\"RainTomorrowIndex\", \n",
    "    predictionCol=\"prediction\", \n",
    "    metricName=\"accuracy\")\n",
    "rf_accuracy = rf_evaluator.evaluate(rf_prediction)"
   ]
  },
  {
   "cell_type": "markdown",
   "metadata": {},
   "source": [
    "### Logistic Regresstion"
   ]
  },
  {
   "cell_type": "code",
   "execution_count": 11,
   "metadata": {},
   "outputs": [],
   "source": [
    "# Fit the model\n",
    "lr = LogisticRegression(\n",
    "    labelCol = \"RainTomorrowIndex\", \n",
    "    featuresCol = \"Features\")\n",
    "lr_model = lr.fit(train)\n",
    "\n",
    "# Predict\n",
    "lr_prediction = lr_model.transform(test)\n",
    "\n",
    "# Evaluate the accuracy\n",
    "lr_evaluator = MulticlassClassificationEvaluator(\n",
    "    labelCol=\"RainTomorrowIndex\", \n",
    "    predictionCol=\"prediction\", \n",
    "    metricName=\"accuracy\")\n",
    "lr_accuracy = lr_evaluator.evaluate(lr_prediction)"
   ]
  },
  {
   "cell_type": "markdown",
   "metadata": {},
   "source": [
    "### Gradient Boosted Trees(GBT)"
   ]
  },
  {
   "cell_type": "code",
   "execution_count": 12,
   "metadata": {},
   "outputs": [],
   "source": [
    "# Fit the model\n",
    "gbt = GBTClassifier(\n",
    "    labelCol = \"RainTomorrowIndex\", \n",
    "    featuresCol = \"Features\")\n",
    "gbt_model = gbt.fit(train)\n",
    "\n",
    "# Predict\n",
    "gbt_prediction = gbt_model.transform(test)\n",
    "\n",
    "# Evaluate the accuracy\n",
    "gbt_evaluator = MulticlassClassificationEvaluator(\n",
    "    labelCol=\"RainTomorrowIndex\", \n",
    "    predictionCol=\"prediction\", \n",
    "    metricName=\"accuracy\")\n",
    "gbt_accuracy = gbt_evaluator.evaluate(gbt_prediction)"
   ]
  },
  {
   "cell_type": "markdown",
   "metadata": {},
   "source": [
    "### Comparison"
   ]
  },
  {
   "cell_type": "code",
   "execution_count": 13,
   "metadata": {},
   "outputs": [
    {
     "data": {
      "image/png": "[encoded data removed]",
      "text/plain": [
       "<Figure size 576x432 with 1 Axes>"
      ]
     },
     "metadata": {
      "needs_background": "light"
     },
     "output_type": "display_data"
    }
   ],
   "source": [
    "# Create x-axis and y-axis\n",
    "x = [\"DecisionTree\", \"RandomForest\", \"LogisticRegression\", \"GBT\"]\n",
    "y = [dt_accuracy, rf_accuracy, lr_accuracy, gbt_accuracy]\n",
    "\n",
    "# Create a bar chart\n",
    "fig, ax = pyplot.subplots() \n",
    "accuracy_bars = ax.bar(x, y)\n",
    "\n",
    "# Add values on the top of bars\n",
    "for bar in accuracy_bars:\n",
    "    ax.text(bar.get_x() + bar.get_width()/3.5, bar.get_height() + 0.01, \"%.4f\"%bar.get_height())\n",
    "\n",
    "# Set labels and size\n",
    "ax.set_title('Accuracy of each algorithm')\n",
    "ax.set_xlabel(\"Algorithm\")\n",
    "ax.set_ylabel(\"Accuracy\")\n",
    "fig.set_size_inches(8,6)"
   ]
  },
  {
   "cell_type": "markdown",
   "metadata": {},
   "source": [
    "### Step 09: Calculate the confusion matrix and find the precision, recall, and F1                           score of each classification algorithm. Explain how the accuracy of the                       predication can be improved?\n",
    "Finding the accuracy of the model does not always represent the quality of the                             model for a given dataset. Number of false positive and false negative identification also                             plays an important role when we decide about any particular classification model. The                           way we can calculate is called confusion matrix. You can use confusionMatrix() method                           to calculate the confusion matrix. From the confusion matrix show the precision, recall                           and f1 score of each classification model. Explain how you can improve the accuracy of                               the predication.   "
   ]
  },
  {
   "cell_type": "markdown",
   "metadata": {},
   "source": [
    "### Decision Tree"
   ]
  },
  {
   "cell_type": "code",
   "execution_count": 14,
   "metadata": {},
   "outputs": [
    {
     "name": "stdout",
     "output_type": "stream",
     "text": [
      "Confusion Matrix:\n",
      " [[31344.  1629.]\n",
      " [ 5362.  4143.]]\n",
      "\n",
      "Rain tomorrow?       No                Yes      \n",
      "Precision:  0.8539203399989103 0.7177754677754677\n",
      "Recall:     0.9505959421344736 0.4358758548132562\n",
      "F1 score:   0.8996684797428207 0.5423839759115009\n"
     ]
    }
   ],
   "source": [
    "# Calculate the confusion matrix\n",
    "dt_rdd = dt_prediction.select(\"prediction\", \"RainTomorrowIndex\").rdd\n",
    "dt_metrics = MulticlassMetrics(dt_rdd)\n",
    "dt_cm = dt_metrics.confusionMatrix().toArray()\n",
    "\n",
    "# Calculate the precision, recall and f1-score for \"No\" and \"Yes\".\n",
    "dt_precision_0 = dt_metrics.precision(0)\n",
    "dt_recall_0 = dt_metrics.recall(0)\n",
    "dt_f1_0 = dt_metrics.fMeasure(0.0)\n",
    "dt_precision_1 = dt_metrics.precision(1)\n",
    "dt_recall_1 = dt_metrics.recall(1)\n",
    "dt_f1_1 = dt_metrics.fMeasure(1.0)\n",
    "\n",
    "# Print the result\n",
    "print(\"Confusion Matrix:\\n\",dt_cm)\n",
    "print(\"\\nRain tomorrow?\", \"      No       \", \"        Yes      \")\n",
    "print(\"Precision: \", dt_precision_0, dt_precision_1)\n",
    "print(\"Recall:    \", dt_recall_0, dt_recall_1)\n",
    "print(\"F1 score:  \", dt_f1_0, dt_f1_1)"
   ]
  },
  {
   "cell_type": "markdown",
   "metadata": {},
   "source": [
    "Note: In this confusion matrix, the positive value represents \"No rain\", and the negative value represents \"Rain tomorrow\". The rows represents the prediction, and the columns represents real condition.\n",
    "\n",
    "|Confusion Matrix|Condition Positive|Condition Negative|\n",
    "|---|---|---|\n",
    "|Prediction Positive|True Positive|False Positive|\n",
    "|Prediction Negative|False Negative|True Negative|"
   ]
  },
  {
   "cell_type": "markdown",
   "metadata": {},
   "source": [
    "### Random Forest"
   ]
  },
  {
   "cell_type": "code",
   "execution_count": 15,
   "metadata": {},
   "outputs": [
    {
     "name": "stdout",
     "output_type": "stream",
     "text": [
      "Confusion Matrix:\n",
      " [[31745.  1228.]\n",
      " [ 5800.  3705.]]\n",
      "\n",
      "Rain tomorrow?       No                Yes      \n",
      "Precision:  0.845518710880277 0.7510642610987229\n",
      "Recall:     0.9627574075758955 0.38979484481851656\n",
      "F1 score:   0.9003375024816359 0.5132289790829755\n"
     ]
    }
   ],
   "source": [
    "# Calculate the confusion matrix\n",
    "rf_rdd = rf_prediction.select(\"prediction\", \"RainTomorrowIndex\").rdd\n",
    "rf_metrics = MulticlassMetrics(rf_rdd)\n",
    "rf_cm = rf_metrics.confusionMatrix().toArray()\n",
    "\n",
    "# Calculate the precision, recall and f1-score for \"No\" and \"Yes\".\n",
    "rf_precision_0 = rf_metrics.precision(0)\n",
    "rf_recall_0 = rf_metrics.recall(0)\n",
    "rf_f1_0 = rf_metrics.fMeasure(0.0)\n",
    "rf_precision_1 = rf_metrics.precision(1)\n",
    "rf_recall_1 = rf_metrics.recall(1)\n",
    "rf_f1_1 = rf_metrics.fMeasure(1.0)\n",
    "\n",
    "# Print the result\n",
    "print(\"Confusion Matrix:\\n\",rf_cm)\n",
    "print(\"\\nRain tomorrow?\", \"      No       \", \"        Yes      \")\n",
    "print(\"Precision: \", rf_precision_0, rf_precision_1)\n",
    "print(\"Recall:    \", rf_recall_0, rf_recall_1)\n",
    "print(\"F1 score:  \", rf_f1_0, rf_f1_1)"
   ]
  },
  {
   "cell_type": "markdown",
   "metadata": {},
   "source": [
    "Note: In this confusion matrix, the positive value represents \"No rain\", and the negative value represents \"Rain tomorrow\". The rows represents the prediction, and the columns represents real condition.\n",
    "\n",
    "|Confusion Matrix|Condition Positive|Condition Negative|\n",
    "|---|---|---|\n",
    "|Prediction Positive|True Positive|False Positive|\n",
    "|Prediction Negative|False Negative|True Negative|"
   ]
  },
  {
   "cell_type": "markdown",
   "metadata": {},
   "source": [
    "### Logistic Regresstion"
   ]
  },
  {
   "cell_type": "code",
   "execution_count": 16,
   "metadata": {},
   "outputs": [
    {
     "name": "stdout",
     "output_type": "stream",
     "text": [
      "Confusion Matrix:\n",
      " [[31258.  1715.]\n",
      " [ 5220.  4285.]]\n",
      "\n",
      "Rain tomorrow?       No                Yes      \n",
      "Precision:  0.8569000493448106 0.7141666666666666\n",
      "Recall:     0.9479877475510265 0.4508153603366649\n",
      "F1 score:   0.9001454262717599 0.5527249274427605\n"
     ]
    }
   ],
   "source": [
    "# Calculate the confusion matrix\n",
    "lr_rdd = lr_prediction.select(\"prediction\", \"RainTomorrowIndex\").rdd\n",
    "lr_metrics = MulticlassMetrics(lr_rdd)\n",
    "lr_cm = lr_metrics.confusionMatrix().toArray()\n",
    "\n",
    "# Calculate the precision, recall and f1-score for \"No\" and \"Yes\".\n",
    "lr_precision_0 = lr_metrics.precision(0)\n",
    "lr_recall_0 = lr_metrics.recall(0)\n",
    "lr_f1_0 = lr_metrics.fMeasure(0.0)\n",
    "lr_precision_1 = lr_metrics.precision(1)\n",
    "lr_recall_1 = lr_metrics.recall(1)\n",
    "lr_f1_1 = lr_metrics.fMeasure(1.0)\n",
    "\n",
    "# Print the result\n",
    "print(\"Confusion Matrix:\\n\",lr_cm)\n",
    "print(\"\\nRain tomorrow?\", \"      No       \", \"        Yes      \")\n",
    "print(\"Precision: \", lr_precision_0, lr_precision_1)\n",
    "print(\"Recall:    \", lr_recall_0, lr_recall_1)\n",
    "print(\"F1 score:  \", lr_f1_0, lr_f1_1)"
   ]
  },
  {
   "cell_type": "markdown",
   "metadata": {},
   "source": [
    "Note: In this confusion matrix, the positive value represents \"No rain\", and the negative value represents \"Rain tomorrow\". The rows represents the prediction, and the columns represents real condition.\n",
    "\n",
    "|Confusion Matrix|Condition Positive|Condition Negative|\n",
    "|---|---|---|\n",
    "|Prediction Positive|True Positive|False Positive|\n",
    "|Prediction Negative|False Negative|True Negative|"
   ]
  },
  {
   "cell_type": "markdown",
   "metadata": {},
   "source": [
    "### Gradient Boosted Trees(GBT)"
   ]
  },
  {
   "cell_type": "code",
   "execution_count": 17,
   "metadata": {},
   "outputs": [
    {
     "name": "stdout",
     "output_type": "stream",
     "text": [
      "Confusion Matrix:\n",
      " [[31244.  1729.]\n",
      " [ 4910.  4595.]]\n",
      "\n",
      "Rain tomorrow?       No                Yes      \n",
      "Precision:  0.8641920672677988 0.7265970904490828\n",
      "Recall:     0.9475631577351166 0.48342977380326146\n",
      "F1 score:   0.903959379113805 0.5805799481963484\n"
     ]
    }
   ],
   "source": [
    "# Calculate the confusion matrix\n",
    "gbt_rdd = gbt_prediction.select(\"prediction\", \"RainTomorrowIndex\").rdd\n",
    "gbt_metrics = MulticlassMetrics(gbt_rdd)\n",
    "gbt_cm = gbt_metrics.confusionMatrix().toArray()\n",
    "\n",
    "# Calculate the precision, recall and f1-score for \"No\" and \"Yes\".\n",
    "gbt_precision_0 = gbt_metrics.precision(0)\n",
    "gbt_recall_0 = gbt_metrics.recall(0)\n",
    "gbt_f1_0 = gbt_metrics.fMeasure(0.0)\n",
    "gbt_precision_1 = gbt_metrics.precision(1)\n",
    "gbt_recall_1 = gbt_metrics.recall(1)\n",
    "gbt_f1_1 = gbt_metrics.fMeasure(1.0)\n",
    "\n",
    "# Print the result\n",
    "print(\"Confusion Matrix:\\n\",gbt_cm)\n",
    "print(\"\\nRain tomorrow?\", \"      No       \", \"        Yes      \")\n",
    "print(\"Precision: \", gbt_precision_0, gbt_precision_1)\n",
    "print(\"Recall:    \", gbt_recall_0, gbt_recall_1)\n",
    "print(\"F1 score:  \", gbt_f1_0, gbt_f1_1)"
   ]
  },
  {
   "cell_type": "markdown",
   "metadata": {},
   "source": [
    "Note: In this confusion matrix, the positive value represents \"No rain\", and the negative value represents \"Rain tomorrow\". The rows represents the prediction, and the columns represents real condition.\n",
    "\n",
    "|Confusion Matrix|Condition Positive|Condition Negative|\n",
    "|---|---|---|\n",
    "|Prediction Positive|True Positive|False Positive|\n",
    "|Prediction Negative|False Negative|True Negative|"
   ]
  },
  {
   "cell_type": "markdown",
   "metadata": {},
   "source": [
    "### Improvement\n",
    "In this case, there are some ways to improve the accuracy of the predication:\n",
    "\n",
    "1. Using cross-validation for each algorithm. Divide the dataset into several parts. For each part, apply the algorithm and calculate the accuracy. At last, use the average accuracy as the model accuracy.\n",
    "\n",
    "2. Deal with the outlier. The outlier can not reflect the real relation between features and prediction. The model will be more accurate without outliers.\n",
    "\n",
    "3. Feature scaling. Standardize the range of features, to make sure different features have the same scale. Avoid the influence from different scale.\n",
    "\n",
    "4. Obtain more training data. Large dataset can reduce the uncertainty of the prediction result, also increase stability of the model."
   ]
  }
 ],
 "metadata": {
  "kernelspec": {
   "display_name": "Python 3",
   "language": "python",
   "name": "python3"
  },
  "language_info": {
   "codemirror_mode": {
    "name": "ipython",
    "version": 3
   },
   "file_extension": ".py",
   "mimetype": "text/x-python",
   "name": "python",
   "nbconvert_exporter": "python",
   "pygments_lexer": "ipython3",
   "version": "3.7.3"
  }
 },
 "nbformat": 4,
 "nbformat_minor": 2
}
